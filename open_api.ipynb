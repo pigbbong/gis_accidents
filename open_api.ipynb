{
 "cells": [
  {
   "cell_type": "code",
   "execution_count": null,
   "id": "954f9762",
   "metadata": {},
   "outputs": [],
   "source": [
    "import requests\n",
    "import certifi\n",
    "import pandas as pd\n",
    "\n",
    "key = \"본인의 인증키\"
    "gu_list = [110,140,170,200,215,230,260,290,305,320,350,380,410,440,470,500,530,545,560,590,620,650,680,710,740]\n",
    "all_data = []\n",
    "years = [2022, 2023, 2024]\n",
    "\n",
    "for year in years:\n",
    "    for gu in gu_list:\n",
    "        url = f\"https://opendata.koroad.or.kr/data/rest/accident/riskArea?authKey={key}&searchYearCd={year}&sido=11&guGun={gu}&type=json\"\n",
    "        r = requests.get(url, verify=certifi.where())\n",
    "        if r.status_code == 200:\n",
    "            data = r.json().get(\"items\", {}).get(\"item\", [])\n",
    "            if data:\n",
    "                for d in data:\n",
    "                    d[\"guGun\"] = gu  # 시군구 코드 추가\n",
    "                    d[\"year\"] = year # 연도 추가\n",
    "                all_data.extend(data)\n",
    "\n",
    "if all_data:\n",
    "    pd.DataFrame(all_data).to_csv(\n",
    "        r\"C:\\Program Files\\PostgreSQL\\18\\data\\pratice\\gis.csv\",\n",
    "        index=False, encoding=\"utf-8-sig\"\n",
    "    )"
   ]
  },
  {
   "cell_type": "code",
   "execution_count": null,
   "id": "4db7e7a3",
   "metadata": {},
   "outputs": [],
   "source": [
    "import pandas as pd\n",
    "import ast\n",
    "\n",
    "# 구군 코드 → 구 이름 매핑 딕셔너리\n",
    "gu_map = {\n",
    "    110: \"종로구\", 140: \"중구\", 170: \"용산구\", 200: \"성동구\", 215: \"광진구\",\n",
    "    230: \"동대문구\", 260: \"중랑구\", 290: \"성북구\", 305: \"강북구\", 320: \"도봉구\",\n",
    "    350: \"노원구\", 380: \"은평구\", 410: \"서대문구\", 440: \"마포구\", 470: \"양천구\",\n",
    "    500: \"강서구\", 530: \"구로구\", 545: \"금천구\", 560: \"영등포구\", 590: \"동작구\",\n",
    "    620: \"관악구\", 650: \"서초구\", 680: \"강남구\", 710: \"송파구\", 740: \"강동구\"\n",
    "}\n",
    "\n",
    "path = r\"C:\\Program Files\\PostgreSQL\\18\\data\\pratice\\gis.csv\"\n",
    "df = pd.read_csv(path, encoding=\"utf-8-sig\")  # 굳이 csv를 저장하고 다시 읽어오는게 비효율적이지만, open_api에서 데이터를 받아오는 시간이 꽤 걸려서 셀을 독립적으로 만듬\n",
    "\n",
    "\n",
    "# PostgreSQL로 보내기 전 간단한 데이터 전처리\n",
    "# 1. 코드 → 구 이름 치환\n",
    "df[\"gu\"] = df[\"guGun\"].map(gu_map)\n",
    "\n",
    "# 2. 문자열 리스트 → 실제 리스트 변환\n",
    "df[\"cause_anals_ty_nm\"] = df[\"cause_anals_ty_nm\"].apply(\n",
    "    lambda x: ast.literal_eval(x) if isinstance(x, str) and \"[\" in x else (\n",
    "        [i.strip(\" '[]\") for i in x.split(\",\")] if isinstance(x, str) else x\n",
    "    )\n",
    ")\n",
    "df = df.explode(\"cause_anals_ty_nm\").reset_index(drop=True) # 리스트를 행 단위로 분리\n",
    "\n",
    "# 3. 필요 없는 칼럼 제거 \n",
    "df = df.drop(columns='str_cause_anals_ty_nm')\n",
    "\n",
    "# 4. 전처리한 데이터셋 저장\n",
    "df.to_csv(path, index=False, encoding=\"utf-8-sig\")"
   ]
  }
 ],
 "metadata": {
  "kernelspec": {
   "display_name": "testing",
   "language": "python",
   "name": "python3"
  },
  "language_info": {
   "codemirror_mode": {
    "name": "ipython",
    "version": 3
   },
   "file_extension": ".py",
   "mimetype": "text/x-python",
   "name": "python",
   "nbconvert_exporter": "python",
   "pygments_lexer": "ipython3",
   "version": "3.10.7"
  }
 },
 "nbformat": 4,
 "nbformat_minor": 5
}
